{
 "cells": [
  {
   "cell_type": "code",
   "execution_count": 1,
   "id": "90148b73",
   "metadata": {},
   "outputs": [
    {
     "name": "stderr",
     "output_type": "stream",
     "text": [
      "C:\\Users\\Marcos\\AppData\\Local\\Temp\\ipykernel_24304\\2770647878.py:13: FutureWarning: YF.download() has changed argument auto_adjust default to True\n",
      "  datos_sp500 = yf.download(TICKER, start='2023-01-04', end='2025-09-01')\n",
      "[*********************100%***********************]  1 of 1 completed"
     ]
    },
    {
     "name": "stdout",
     "output_type": "stream",
     "text": [
      "Datos descargados para ^GSPC:\n",
      "Price             Close         High          Low         Open      Volume\n",
      "Ticker            ^GSPC        ^GSPC        ^GSPC        ^GSPC       ^GSPC\n",
      "Date                                                                      \n",
      "2023-01-04  3852.969971  3873.159912  3815.770020  3840.360107  4414080000\n",
      "2023-01-05  3808.100098  3839.739990  3802.419922  3839.739990  3893450000\n",
      "2023-01-06  3895.080078  3906.189941  3809.560059  3823.370117  3923560000\n",
      "2023-01-09  3892.090088  3950.570068  3890.419922  3910.820068  4311770000\n",
      "2023-01-10  3919.250000  3919.830078  3877.290039  3888.570068  3851030000\n",
      "Price             Close         High          Low         Open      Volume\n",
      "Ticker            ^GSPC        ^GSPC        ^GSPC        ^GSPC       ^GSPC\n",
      "Date                                                                      \n",
      "2025-08-25  6439.319824  6466.890137  6438.060059  6457.669922  4059070000\n",
      "2025-08-26  6465.939941  6468.370117  6429.209961  6435.490234  4867680000\n",
      "2025-08-27  6481.399902  6487.060059  6457.839844  6462.259766  4143680000\n",
      "2025-08-28  6501.859863  6508.229980  6466.959961  6483.839844  4283760000\n",
      "2025-08-29  6460.259766  6491.759766  6444.569824  6489.279785  4234840000\n",
      "\n",
      "Primeras rentabilidades calculadas:\n",
      "Ticker      Rentabilidad\n",
      "Date                    \n",
      "2023-01-05     -0.011646\n",
      "2023-01-06      0.022841\n",
      "2023-01-09     -0.000768\n",
      "2023-01-10      0.006978\n",
      "2023-01-11      0.012849\n",
      "\n",
      "Estadísticas de las rentabilidades:\n",
      "Ticker  Rentabilidad\n",
      "count     665.000000\n",
      "mean        0.000825\n",
      "std         0.009752\n",
      "min        -0.059750\n",
      "25%        -0.003695\n",
      "50%         0.000907\n",
      "75%         0.005874\n",
      "max         0.095154\n"
     ]
    },
    {
     "name": "stderr",
     "output_type": "stream",
     "text": [
      "\n"
     ]
    }
   ],
   "source": [
    "# Importa las librerías\n",
    "import yfinance as yf\n",
    "import pandas as pd\n",
    "import numpy as np\n",
    "import matplotlib.pyplot as plt\n",
    "import seaborn as sns # Para gráficos estadísticos\n",
    "%matplotlib inline\n",
    "\n",
    "# Definición del símbolo y las fechas\n",
    "TICKER = '^GSPC' # Símbolo del S&P500\n",
    "\n",
    "# Descarga de los datos\n",
    "datos_sp500 = yf.download(TICKER, start='2023-01-04', end='2025-09-01')\n",
    "\n",
    "# Mostrar las primeras filas para verificar\n",
    "print(f\"Datos descargados para {TICKER}:\")\n",
    "print(datos_sp500.head())\n",
    "print(datos_sp500.tail())\n",
    "\n",
    "# Seleccionar la columna de los precios de cierre para el cálculo de las rentabilidades\n",
    "precios_cierre = datos_sp500['Close']\n",
    "\n",
    "# Calcular las rentabilidades diarias (pct_change) (r = (Pi - Pi-1) / Pi-1)\n",
    "# El primer valor no es obtenible al no haber datos del día anterior\n",
    "rentabilidades = precios_cierre.pct_change().dropna() # Elimina los valores nulos (NaN)\n",
    "rentabilidades = rentabilidades.rename(columns={'^GSPC': 'Rentabilidad'})\n",
    "\n",
    "\n",
    "# Mostrar las primeras filas y estadísticas\n",
    "print(\"\\nPrimeras rentabilidades calculadas:\")\n",
    "print(rentabilidades.head())\n",
    "print(\"\\nEstadísticas de las rentabilidades:\")\n",
    "print(rentabilidades.describe()) # Separa los datos en 4 grupos y calcula la media de la rentabilidad\n"
   ]
  },
  {
   "cell_type": "code",
   "execution_count": 2,
   "id": "56bddf52",
   "metadata": {},
   "outputs": [
    {
     "name": "stdout",
     "output_type": "stream",
     "text": [
      "\n",
      "Se encontraron 665 observaciones atípicas que serán eliminadas.\n",
      "Límite Inferior (mu - 2*sigma): -0.018680\n",
      "Límite Superior (mu + 2*sigma): 0.020329\n",
      "\n",
      "Ticker      Rentabilidad\n",
      "Date                    \n",
      "2023-01-05     -0.011646\n",
      "2023-01-09     -0.000768\n",
      "2023-01-10      0.006978\n",
      "2023-01-11      0.012849\n",
      "2023-01-12      0.003416\n",
      "--------------------------------------------------\n",
      "Rentabilidades originales: 665 días\n",
      "Rentabilidades filtradas: 644 días\n"
     ]
    }
   ],
   "source": [
    "# 1. Calcular la media y la desviación estándar \n",
    "media = rentabilidades.mean().item() # Extrae el valor de un serie \n",
    "desviacion = rentabilidades.std().item()\n",
    "\n",
    "# 2. Definir los límites de exclusión (más/menos 2 desviaciones típicas)\n",
    "limite_inferior = media - (2 * desviacion)\n",
    "limite_superior = media + (2 * desviacion)\n",
    "\n",
    "# 3. Contar y mostrar los outliers que serán eliminados\n",
    "outliers = rentabilidades[\n",
    "    (rentabilidades < limite_inferior) |\n",
    "    (rentabilidades > limite_superior)\n",
    "]\n",
    "\n",
    "print(f\"\\nSe encontraron {len(outliers)} observaciones atípicas que serán eliminadas.\")\n",
    "print(f\"Límite Inferior (mu - 2*sigma): {limite_inferior:.6f}\") # Hasta 6 decimales\n",
    "print(f\"Límite Superior (mu + 2*sigma): {limite_superior:.6f}\\n\")\n",
    "\n",
    "\n",
    "# 4. Aplicar el filtrado: crear un nuevo DataFrame sin los outliers\n",
    "rentabilidades_filtradas = rentabilidades[\n",
    "    (rentabilidades >= limite_inferior) &\n",
    "    (rentabilidades <= limite_superior)\n",
    "].copy()\n",
    "\n",
    "#eliminar las filas con valores NaN\n",
    "rentabilidades_filtradas = rentabilidades_filtradas.dropna()\n",
    "rentabilidades_filtradas.rename(columns={'^GSPC': 'Rentabilidad'})\n",
    "print(rentabilidades_filtradas.head())\n",
    "\n",
    "# 5. Mostrar el tamaño del nuevo conjunto de datos\n",
    "print(\"-\" * 50)\n",
    "print(f\"Rentabilidades originales: {len(rentabilidades)} días\")\n",
    "print(f\"Rentabilidades filtradas: {len(rentabilidades_filtradas)} días\")"
   ]
  },
  {
   "cell_type": "code",
   "execution_count": 3,
   "id": "57e3b40e",
   "metadata": {},
   "outputs": [
    {
     "name": "stdout",
     "output_type": "stream",
     "text": [
      "### Tabla de Resultados de Estadísticas Descriptivas (Serie Tratada) ###\n",
      "                                                              Valor\n",
      "Métrica                                                            \n",
      "Media (μ)            Ticker\n",
      "Rentabilidad    0.000964\n",
      "dtype: float64\n",
      "Varianza (σ²)        Ticker\n",
      "Rentabilidad    0.000057\n",
      "dtype: float64\n",
      "Sesgo (Skewness)     Ticker\n",
      "Rentabilidad   -0.147646\n",
      "dtype: float64\n",
      "Curtosis (Kurtosis)  Ticker\n",
      "Rentabilidad   -0.027784\n",
      "dtype: float64\n"
     ]
    }
   ],
   "source": [
    "# 1. Calcular las métricas\n",
    "media = rentabilidades_filtradas.mean()\n",
    "varianza = rentabilidades_filtradas.var()\n",
    "sesgo = rentabilidades_filtradas.skew()\n",
    "# Usamos el método .kurt() de Pandas para la curtosis (que por defecto es la curtosis en exceso)\n",
    "kurtosis = rentabilidades_filtradas.kurt()\n",
    "\n",
    "# 2. Crear una tabla de resultados (DataFrame) para una presentación clara\n",
    "resultados_estadisticos = pd.DataFrame({\n",
    "    'Métrica': ['Media (μ)', 'Varianza (σ²)', 'Sesgo (Skewness)', 'Curtosis (Kurtosis)'],\n",
    "    'Valor': [media, varianza, sesgo, kurtosis]\n",
    "})\n",
    "\n",
    "print(\"### Tabla de Resultados de Estadísticas Descriptivas (Serie Tratada) ###\")\n",
    "# Formateamos la tabla para que los valores se muestren con 6 decimales para precisión\n",
    "print(resultados_estadisticos.set_index('Métrica'))"
   ]
  },
  {
   "cell_type": "code",
   "execution_count": 4,
   "id": "732109ed",
   "metadata": {},
   "outputs": [
    {
     "data": {
      "image/png": "[encoded data removed]",
      "text/plain": [
       "<Figure size 1000x600 with 1 Axes>"
      ]
     },
     "metadata": {},
     "output_type": "display_data"
    }
   ],
   "source": [
    "# Crear el histograma\n",
    "plt.figure(figsize=(10, 6))\n",
    "sns.histplot(rentabilidades_filtradas, bins=50, kde=True, stat='density', color='skyblue', edgecolor='midnightblue')\n",
    "# kde=True añade una estimación de la densidad de probabilidad\n",
    "# stat='density' normaliza el histograma para que el área total sea 1\n",
    "\n",
    "plt.title('Histograma de Rentabilidades Diarias del S&P500 (Serie Tratada)')\n",
    "plt.xlabel('Rentabilidad')\n",
    "plt.ylabel('Densidad de Probabilidad')\n",
    "plt.grid(True, linestyle='--', alpha=0.7)\n",
    "plt.show()"
   ]
  },
  {
   "cell_type": "code",
   "execution_count": 5,
   "id": "4c1b41af",
   "metadata": {},
   "outputs": [
    {
     "name": "stdout",
     "output_type": "stream",
     "text": [
      "Variables rezagadas creadas con éxito.\n",
      "\n",
      "### Matriz Final (Comienza en la 6ta Observación) ###\n",
      "Total de observaciones completas para el modelo: 639\n",
      "Ticker      Rentabilidad     R_t-1     R_t-2     R_t-3     R_t-4     R_t-5\n",
      "Date                                                                      \n",
      "2023-01-13      0.003997  0.003416  0.012849  0.006978 -0.000768 -0.011646\n",
      "2023-01-17     -0.002030  0.003997  0.003416  0.012849  0.006978 -0.000768\n",
      "2023-01-18     -0.015563 -0.002030  0.003997  0.003416  0.012849  0.006978\n",
      "2023-01-19     -0.007638 -0.015563 -0.002030  0.003997  0.003416  0.012849\n",
      "2023-01-20      0.018918 -0.007638 -0.015563 -0.002030  0.003997  0.003416\n",
      "\n",
      "Matriz X (Predictoras) lista. Columnas: ['R_t-1', 'R_t-2', 'R_t-3', 'R_t-4', 'R_t-5']\n",
      "Vector Y (Objetivo) listo. Tamaño: 639\n"
     ]
    }
   ],
   "source": [
    "# Definir el número de rezagos (lags) a utilizar\n",
    "NUM_LAGS = 5\n",
    "\n",
    "\n",
    "# Definir el número de re\n",
    "# Crear las variables rezagadas (R_t-1 a R_t-5)\n",
    "for i in range(1, NUM_LAGS + 1):\n",
    "    # .shift(i) desplaza la serie i posiciones hacia abajo (hacia el pasado)\n",
    "    rentabilidades_filtradas[f'R_t-{i}'] = rentabilidades_filtradas['Rentabilidad'].shift(i)\n",
    "\n",
    "print(\"Variables rezagadas creadas con éxito.\")\n",
    "\n",
    "# Eliminar las primeras 5 filas que contienen NaN después de la operación de shift\n",
    "# Estas son las filas \"no completas\"\n",
    "rentabilidades_filtradas = rentabilidades_filtradas.dropna()\n",
    "\n",
    "print(\"\\n### Matriz Final (Comienza en la 6ta Observación) ###\")\n",
    "print(f\"Total de observaciones completas para el modelo: {len(rentabilidades_filtradas)}\")\n",
    "print(rentabilidades_filtradas.head())\n",
    "\n",
    "# Variables Independientes (X): Todas las columnas *excepto* 'Rentabilidad'\n",
    "X = rentabilidades_filtradas.drop('Rentabilidad', axis=1)\n",
    "\n",
    "# Variable Dependiente (Y): La rentabilidad actual\n",
    "Y = rentabilidades_filtradas['Rentabilidad']\n",
    "\n",
    "print(f\"\\nMatriz X (Predictoras) lista. Columnas: {list(X.columns)}\")\n",
    "print(f\"Vector Y (Objetivo) listo. Tamaño: {len(Y)}\")"
   ]
  },
  {
   "cell_type": "code",
   "execution_count": 6,
   "id": "bfe6e656",
   "metadata": {},
   "outputs": [
    {
     "name": "stdout",
     "output_type": "stream",
     "text": [
      "--- División de Datos ---\n",
      "Total de observaciones utilizadas: 639\n",
      "Conjunto de Entrenamiento (80%): 511 días\n",
      "Conjunto de Prueba (20%): 128 días\n"
     ]
    }
   ],
   "source": [
    "from sklearn.linear_model import LinearRegression\n",
    "\n",
    "# Definir el punto de corte (80% para entrenamiento)\n",
    "tamaño_total = len(rentabilidades_filtradas)\n",
    "punto_corte = int(tamaño_total * 0.8)\n",
    "\n",
    "# Dividir el conjunto de entrenamiento (Train) - Datos más antiguos\n",
    "X_train = X.iloc[:punto_corte]\n",
    "Y_train = Y.iloc[:punto_corte]\n",
    "\n",
    "# Dividir el conjunto de prueba (Test) - Datos más recientes\n",
    "X_test = X.iloc[punto_corte:]\n",
    "Y_test = Y.iloc[punto_corte:]\n",
    "\n",
    "print(\"--- División de Datos ---\")\n",
    "print(f\"Total de observaciones utilizadas: {tamaño_total}\")\n",
    "print(f\"Conjunto de Entrenamiento (80%): {len(X_train)} días\")\n",
    "print(f\"Conjunto de Prueba (20%): {len(X_test)} días\")\n",
    "\n"
   ]
  },
  {
   "cell_type": "code",
   "execution_count": 7,
   "id": "6dfe42de",
   "metadata": {},
   "outputs": [
    {
     "name": "stdout",
     "output_type": "stream",
     "text": [
      "\n",
      " Modelo de Regresión Lineal Múltiple (AR(5)) entrenado con éxito.\n",
      "\n",
      "### Coeficientes del Modelo Lineal (Pesos) ###\n",
      "           Coeficiente (Beta)\n",
      "Variable                     \n",
      "Intercepto           0.001150\n",
      "R_t-1                0.001923\n",
      "R_t-2               -0.058752\n",
      "R_t-3               -0.063248\n",
      "R_t-4                0.012887\n",
      "R_t-5               -0.095115\n",
      "\n",
      "Análisis Crítico de Coeficientes:\n"
     ]
    }
   ],
   "source": [
    "# 1. Crear una instancia del modelo de Regresión Lineal\n",
    "modelo_regresion = LinearRegression()\n",
    "\n",
    "# 2. Ajustar el modelo (Entrenamiento)\n",
    "modelo_regresion.fit(X_train, Y_train)\n",
    "\n",
    "print(\"\\n Modelo de Regresión Lineal Múltiple (AR(5)) entrenado con éxito.\")\n",
    "\n",
    "# Obtener los coeficientes y el intercepto\n",
    "intercepto = modelo_regresion.intercept_ #valores de beta a 0\n",
    "coeficientes = modelo_regresion.coef_    #valores de beta reales\n",
    "\n",
    "# Crear un DataFrame para visualizar\n",
    "columnas_rezago = [f'R_t-{i}' for i in range(1, NUM_LAGS + 1)]\n",
    "coeficientes_df = pd.DataFrame({\n",
    "    'Variable': ['Intercepto'] + columnas_rezago,\n",
    "    'Coeficiente (Beta)': [intercepto] + list(coeficientes)\n",
    "})\n",
    "\n",
    "print(\"\\n### Coeficientes del Modelo Lineal (Pesos) ###\")\n",
    "print(coeficientes_df.set_index('Variable').apply(lambda x: pd.Series([f\"{val:.6f}\" for val in x], index=x.index)))\n",
    "\n",
    "# Análisis\n",
    "print(\"\\nAnálisis Crítico de Coeficientes:\")\n",
    "if all(abs(coef) < 0.05 for coef in coeficientes):\n",
    "    print(\"La mayoría de los coeficientes son extremadamente cercanos a cero.\")\n",
    "    print(\"Esto sugiere que la influencia lineal de las rentabilidades pasadas es casi nula, lo cual es la expectativa en un mercado eficiente.\")"
   ]
  },
  {
   "cell_type": "code",
   "execution_count": 8,
   "id": "c0fbaef1",
   "metadata": {},
   "outputs": [
    {
     "name": "stdout",
     "output_type": "stream",
     "text": [
      "Columnas de rendimiento real y predicho creadas con éxito.\n",
      "\n",
      "Ejemplo de Predicciones vs. Real (Entrenamiento):\n",
      "            Rendimiento Real (Y_train)  Rendimiento Predicho (Y_pred_train)\n",
      "Date                                                                       \n",
      "2023-01-13                    0.003997                             0.001058\n",
      "2023-01-17                   -0.002030                             0.000307\n",
      "2023-01-18                   -0.015563                             0.000197\n",
      "2023-01-19                   -0.007638                            -0.000192\n",
      "2023-01-20                    0.018918                             0.001904\n"
     ]
    }
   ],
   "source": [
    "from sklearn.metrics import mean_squared_error, mean_absolute_error\n",
    "\n",
    "# Generar las predicciones del modelo (DENTRO DE LA MUESTRA)\n",
    "Y_pred_train = modelo_regresion.predict(X_train)\n",
    "\n",
    "# Crear un DataFrame para visualizar y comparar (las dos columnas requeridas)\n",
    "df_calibrado = pd.DataFrame({\n",
    "    'Rendimiento Real (Y_train)': Y_train,\n",
    "    'Rendimiento Predicho (Y_pred_train)': Y_pred_train\n",
    "})\n",
    "\n",
    "print(\"Columnas de rendimiento real y predicho creadas con éxito.\")\n",
    "print(\"\\nEjemplo de Predicciones vs. Real (Entrenamiento):\")\n",
    "print(df_calibrado.head())\n",
    "\n"
   ]
  },
  {
   "cell_type": "code",
   "execution_count": 9,
   "id": "f2c3b266",
   "metadata": {},
   "outputs": [
    {
     "name": "stdout",
     "output_type": "stream",
     "text": [
      "\n",
      "### Métricas de Calidad de Calibrado (DENTRO DE LA MUESTRA) ###\n",
      "                           Valor\n",
      "Métrica                         \n",
      "MSE                     0.000056\n",
      "MAE                     0.005866\n",
      "MAPE (%)                 186.04%\n",
      "RMSE (Para referencia)  0.007453\n"
     ]
    }
   ],
   "source": [
    "# 1. Calcular el Error Cuadrático Medio (MSE)\n",
    "mse = mean_squared_error(Y_train, Y_pred_train)\n",
    "\n",
    "# 2. Calcular el Error Absoluto Medio (MAE)\n",
    "mae = mean_absolute_error(Y_train, Y_pred_train)\n",
    "\n",
    "# Función para calcular el MAPE de forma robusta\n",
    "def mean_absolute_percentage_error(y_true, y_pred):\n",
    "    y_true, y_pred = np.array(y_true), np.array(y_pred)\n",
    "    # Evitamos divisiones por cero o valores cercanos a cero (donde MAPE falla)\n",
    "    # Se añade un eps (epsilon) al denominador para estabilidad si el valor es 0.\n",
    "    return np.mean(np.abs((y_true - y_pred) / np.maximum(np.abs(y_true), 1e-8))) * 100\n",
    "\n",
    "mape = mean_absolute_percentage_error(Y_train, Y_pred_train)\n",
    "\n",
    "# Crear la tabla de resultados\n",
    "metricas_calibracion = pd.DataFrame({\n",
    "    'Métrica': ['MSE', 'MAE', 'MAPE (%)', 'RMSE (Para referencia)'],\n",
    "    'Valor': [mse, mae, mape, np.sqrt(mse)]\n",
    "})\n",
    "\n",
    "print(\"\\n### Métricas de Calidad de Calibrado (DENTRO DE LA MUESTRA) ###\")\n",
    "print(metricas_calibracion.set_index('Métrica').apply(lambda x: pd.Series([f\"{val:.6f}\" if idx != 2 else f\"{val:.2f}%\" for idx, val in enumerate(x)], index=x.index)))"
   ]
  },
  {
   "cell_type": "code",
   "execution_count": 10,
   "id": "12ddb945",
   "metadata": {},
   "outputs": [
    {
     "name": "stdout",
     "output_type": "stream",
     "text": [
      "\n",
      "### Comparación de Modelos (FUERA DE LA MUESTRA) ###\n",
      "         Modelo AR(5)  Modelo Base (R_t=0)\n",
      "Métrica                                   \n",
      "MSE          0.000061             0.000061\n",
      "MAE          0.005955             0.005954\n",
      "RMSE         0.007816             0.007784\n"
     ]
    }
   ],
   "source": [
    "# Generar predicciones para el Modelo AR(5) (ya entrenado)\n",
    "Y_pred_AR5 = modelo_regresion.predict(X_test)\n",
    "\n",
    "# Generar predicciones para el Modelo Base (Paseo Aleatorio: R_t = 0)\n",
    "Y_pred_Base = np.zeros(len(Y_test))\n",
    "\n",
    "# La rentabilidad real se mantiene (Y_test)\n",
    "\n",
    "# 1. Calcular Métricas para el Modelo AR(5)\n",
    "mse_AR5 = mean_squared_error(Y_test, Y_pred_AR5)\n",
    "mae_AR5 = mean_absolute_error(Y_test, Y_pred_AR5)\n",
    "\n",
    "# 2. Calcular Métricas para el Modelo Base (R_t = 0)\n",
    "mse_Base = mean_squared_error(Y_test, Y_pred_Base)\n",
    "mae_Base = mean_absolute_error(Y_test, Y_pred_Base)\n",
    "\n",
    "# Crear la tabla comparativa\n",
    "df_comparacion = pd.DataFrame({\n",
    "    'Métrica': ['MSE', 'MAE', 'RMSE'],\n",
    "    'Modelo AR(5)': [\n",
    "        mse_AR5,\n",
    "        mae_AR5,\n",
    "        np.sqrt(mse_AR5),\n",
    "    ],\n",
    "    'Modelo Base (R_t=0)': [\n",
    "        mse_Base,\n",
    "        mae_Base,\n",
    "        np.sqrt(mse_Base),\n",
    "       \n",
    "    ]\n",
    "})\n",
    "\n",
    "# Formatear y mostrar\n",
    "print(\"\\n### Comparación de Modelos (FUERA DE LA MUESTRA) ###\")\n",
    "print(df_comparacion.set_index('Métrica'))"
   ]
  }
 ],
 "metadata": {
  "kernelspec": {
   "display_name": "Python 3",
   "language": "python",
   "name": "python3"
  },
  "language_info": {
   "codemirror_mode": {
    "name": "ipython",
    "version": 3
   },
   "file_extension": ".py",
   "mimetype": "text/x-python",
   "name": "python",
   "nbconvert_exporter": "python",
   "pygments_lexer": "ipython3",
   "version": "3.14.0"
  }
 },
 "nbformat": 4,
 "nbformat_minor": 5
}
